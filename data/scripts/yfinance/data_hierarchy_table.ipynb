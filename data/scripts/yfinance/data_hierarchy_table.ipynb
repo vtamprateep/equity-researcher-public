{
 "cells": [
  {
   "cell_type": "code",
   "execution_count": 1,
   "id": "50f2fd18",
   "metadata": {},
   "outputs": [],
   "source": [
    "# imports\n",
    "import pandas as pd"
   ]
  },
  {
   "cell_type": "code",
   "execution_count": 8,
   "id": "ea933fc3",
   "metadata": {},
   "outputs": [],
   "source": [
    "# Load data tables\n",
    "df_symbol = pd.read_csv(\"../../seed/db_symbol_seed.csv\")\n",
    "df_holdings = pd.read_csv(\"../../seed/db_holdings_seed.csv\")"
   ]
  },
  {
   "cell_type": "code",
   "execution_count": 9,
   "id": "39822af3",
   "metadata": {},
   "outputs": [
    {
     "data": {
      "text/html": [
       "<div>\n",
       "<style scoped>\n",
       "    .dataframe tbody tr th:only-of-type {\n",
       "        vertical-align: middle;\n",
       "    }\n",
       "\n",
       "    .dataframe tbody tr th {\n",
       "        vertical-align: top;\n",
       "    }\n",
       "\n",
       "    .dataframe thead th {\n",
       "        text-align: right;\n",
       "    }\n",
       "</style>\n",
       "<table border=\"1\" class=\"dataframe\">\n",
       "  <thead>\n",
       "    <tr style=\"text-align: right;\">\n",
       "      <th></th>\n",
       "      <th>id</th>\n",
       "      <th>symbol</th>\n",
       "    </tr>\n",
       "  </thead>\n",
       "  <tbody>\n",
       "    <tr>\n",
       "      <th>512</th>\n",
       "      <td>513</td>\n",
       "      <td>SPY</td>\n",
       "    </tr>\n",
       "  </tbody>\n",
       "</table>\n",
       "</div>"
      ],
      "text/plain": [
       "      id symbol\n",
       "512  513    SPY"
      ]
     },
     "execution_count": 9,
     "metadata": {},
     "output_type": "execute_result"
    }
   ],
   "source": [
    "df_symbol[df_symbol[\"symbol\"] == \"SPY\"]"
   ]
  },
  {
   "cell_type": "code",
   "execution_count": 43,
   "id": "cc347c64",
   "metadata": {},
   "outputs": [],
   "source": [
    "# Create new table\n",
    "df_hierarchy = pd.DataFrame(columns=[\"symbol_id\", \"type\", \"parent_symbol_id\"])"
   ]
  },
  {
   "cell_type": "code",
   "execution_count": 44,
   "id": "2e8a42be",
   "metadata": {},
   "outputs": [],
   "source": [
    "market = [\"SPY\"]\n",
    "sector = [\"XLC\", \"XLY\", \"XLP\", \"XLE\", \"XLF\", \"XLV\", \"XLI\", \"XLB\", \"XLRE\", \"XLK\", \"XLU\"]\n",
    "# Business is everything else"
   ]
  },
  {
   "cell_type": "code",
   "execution_count": 45,
   "id": "b012ff76",
   "metadata": {},
   "outputs": [
    {
     "data": {
      "text/html": [
       "<div>\n",
       "<style scoped>\n",
       "    .dataframe tbody tr th:only-of-type {\n",
       "        vertical-align: middle;\n",
       "    }\n",
       "\n",
       "    .dataframe tbody tr th {\n",
       "        vertical-align: top;\n",
       "    }\n",
       "\n",
       "    .dataframe thead th {\n",
       "        text-align: right;\n",
       "    }\n",
       "</style>\n",
       "<table border=\"1\" class=\"dataframe\">\n",
       "  <thead>\n",
       "    <tr style=\"text-align: right;\">\n",
       "      <th></th>\n",
       "      <th>symbol_id</th>\n",
       "      <th>type</th>\n",
       "      <th>parent_symbol_id</th>\n",
       "    </tr>\n",
       "  </thead>\n",
       "  <tbody>\n",
       "    <tr>\n",
       "      <th>0</th>\n",
       "      <td>513</td>\n",
       "      <td>MARKET</td>\n",
       "      <td>&lt;NA&gt;</td>\n",
       "    </tr>\n",
       "  </tbody>\n",
       "</table>\n",
       "</div>"
      ],
      "text/plain": [
       "  symbol_id    type parent_symbol_id\n",
       "0       513  MARKET             <NA>"
      ]
     },
     "execution_count": 45,
     "metadata": {},
     "output_type": "execute_result"
    }
   ],
   "source": [
    "# Add market to table\n",
    "df_market_subset = df_symbol[df_symbol.symbol.isin(market)]\n",
    "for i, r in df_market_subset.iterrows():\n",
    "    row = pd.DataFrame({\"symbol_id\": [r.id], \"type\": [\"MARKET\"], \"parent_symbol_id\": [pd.NA]})\n",
    "    df_hierarchy = pd.concat([df_hierarchy, row], ignore_index=True)\n",
    "\n",
    "df_hierarchy.head()"
   ]
  },
  {
   "cell_type": "code",
   "execution_count": 46,
   "id": "90631b35",
   "metadata": {},
   "outputs": [
    {
     "data": {
      "text/html": [
       "<div>\n",
       "<style scoped>\n",
       "    .dataframe tbody tr th:only-of-type {\n",
       "        vertical-align: middle;\n",
       "    }\n",
       "\n",
       "    .dataframe tbody tr th {\n",
       "        vertical-align: top;\n",
       "    }\n",
       "\n",
       "    .dataframe thead th {\n",
       "        text-align: right;\n",
       "    }\n",
       "</style>\n",
       "<table border=\"1\" class=\"dataframe\">\n",
       "  <thead>\n",
       "    <tr style=\"text-align: right;\">\n",
       "      <th></th>\n",
       "      <th>symbol_id</th>\n",
       "      <th>type</th>\n",
       "      <th>parent_symbol_id</th>\n",
       "    </tr>\n",
       "  </thead>\n",
       "  <tbody>\n",
       "    <tr>\n",
       "      <th>0</th>\n",
       "      <td>513</td>\n",
       "      <td>MARKET</td>\n",
       "      <td>&lt;NA&gt;</td>\n",
       "    </tr>\n",
       "    <tr>\n",
       "      <th>1</th>\n",
       "      <td>492</td>\n",
       "      <td>SECTOR</td>\n",
       "      <td>513</td>\n",
       "    </tr>\n",
       "    <tr>\n",
       "      <th>2</th>\n",
       "      <td>493</td>\n",
       "      <td>SECTOR</td>\n",
       "      <td>513</td>\n",
       "    </tr>\n",
       "    <tr>\n",
       "      <th>3</th>\n",
       "      <td>494</td>\n",
       "      <td>SECTOR</td>\n",
       "      <td>513</td>\n",
       "    </tr>\n",
       "    <tr>\n",
       "      <th>4</th>\n",
       "      <td>495</td>\n",
       "      <td>SECTOR</td>\n",
       "      <td>513</td>\n",
       "    </tr>\n",
       "  </tbody>\n",
       "</table>\n",
       "</div>"
      ],
      "text/plain": [
       "  symbol_id    type parent_symbol_id\n",
       "0       513  MARKET             <NA>\n",
       "1       492  SECTOR              513\n",
       "2       493  SECTOR              513\n",
       "3       494  SECTOR              513\n",
       "4       495  SECTOR              513"
      ]
     },
     "execution_count": 46,
     "metadata": {},
     "output_type": "execute_result"
    }
   ],
   "source": [
    "# Add sectors to table\n",
    "df_sector_subset = df_symbol[df_symbol.symbol.isin(sector)]\n",
    "for i, r in df_sector_subset.iterrows():\n",
    "    row = pd.DataFrame({\"symbol_id\": [r.id], \"type\": [\"SECTOR\"], \"parent_symbol_id\": [df_market_subset.id.iloc[0]]})\n",
    "    df_hierarchy = pd.concat([df_hierarchy, row], ignore_index=True)\n",
    "\n",
    "df_hierarchy.head()"
   ]
  },
  {
   "cell_type": "code",
   "execution_count": 48,
   "id": "583ac8dd",
   "metadata": {},
   "outputs": [
    {
     "data": {
      "text/html": [
       "<div>\n",
       "<style scoped>\n",
       "    .dataframe tbody tr th:only-of-type {\n",
       "        vertical-align: middle;\n",
       "    }\n",
       "\n",
       "    .dataframe tbody tr th {\n",
       "        vertical-align: top;\n",
       "    }\n",
       "\n",
       "    .dataframe thead th {\n",
       "        text-align: right;\n",
       "    }\n",
       "</style>\n",
       "<table border=\"1\" class=\"dataframe\">\n",
       "  <thead>\n",
       "    <tr style=\"text-align: right;\">\n",
       "      <th></th>\n",
       "      <th>symbol_id</th>\n",
       "      <th>type</th>\n",
       "      <th>parent_symbol_id</th>\n",
       "    </tr>\n",
       "  </thead>\n",
       "  <tbody>\n",
       "    <tr>\n",
       "      <th>0</th>\n",
       "      <td>513</td>\n",
       "      <td>MARKET</td>\n",
       "      <td>&lt;NA&gt;</td>\n",
       "    </tr>\n",
       "    <tr>\n",
       "      <th>1</th>\n",
       "      <td>492</td>\n",
       "      <td>SECTOR</td>\n",
       "      <td>513</td>\n",
       "    </tr>\n",
       "    <tr>\n",
       "      <th>2</th>\n",
       "      <td>493</td>\n",
       "      <td>SECTOR</td>\n",
       "      <td>513</td>\n",
       "    </tr>\n",
       "    <tr>\n",
       "      <th>3</th>\n",
       "      <td>494</td>\n",
       "      <td>SECTOR</td>\n",
       "      <td>513</td>\n",
       "    </tr>\n",
       "    <tr>\n",
       "      <th>4</th>\n",
       "      <td>495</td>\n",
       "      <td>SECTOR</td>\n",
       "      <td>513</td>\n",
       "    </tr>\n",
       "    <tr>\n",
       "      <th>...</th>\n",
       "      <td>...</td>\n",
       "      <td>...</td>\n",
       "      <td>...</td>\n",
       "    </tr>\n",
       "    <tr>\n",
       "      <th>508</th>\n",
       "      <td>508</td>\n",
       "      <td>INDIVIDUAL</td>\n",
       "      <td>501</td>\n",
       "    </tr>\n",
       "    <tr>\n",
       "      <th>509</th>\n",
       "      <td>509</td>\n",
       "      <td>INDIVIDUAL</td>\n",
       "      <td>498</td>\n",
       "    </tr>\n",
       "    <tr>\n",
       "      <th>510</th>\n",
       "      <td>510</td>\n",
       "      <td>INDIVIDUAL</td>\n",
       "      <td>496</td>\n",
       "    </tr>\n",
       "    <tr>\n",
       "      <th>511</th>\n",
       "      <td>511</td>\n",
       "      <td>INDIVIDUAL</td>\n",
       "      <td>496</td>\n",
       "    </tr>\n",
       "    <tr>\n",
       "      <th>512</th>\n",
       "      <td>512</td>\n",
       "      <td>INDIVIDUAL</td>\n",
       "      <td>501</td>\n",
       "    </tr>\n",
       "  </tbody>\n",
       "</table>\n",
       "<p>513 rows × 3 columns</p>\n",
       "</div>"
      ],
      "text/plain": [
       "    symbol_id        type parent_symbol_id\n",
       "0         513      MARKET             <NA>\n",
       "1         492      SECTOR              513\n",
       "2         493      SECTOR              513\n",
       "3         494      SECTOR              513\n",
       "4         495      SECTOR              513\n",
       "..        ...         ...              ...\n",
       "508       508  INDIVIDUAL              501\n",
       "509       509  INDIVIDUAL              498\n",
       "510       510  INDIVIDUAL              496\n",
       "511       511  INDIVIDUAL              496\n",
       "512       512  INDIVIDUAL              501\n",
       "\n",
       "[513 rows x 3 columns]"
      ]
     },
     "execution_count": 48,
     "metadata": {},
     "output_type": "execute_result"
    }
   ],
   "source": [
    "# Add individual stocks to table\n",
    "df_individual_subset = df_symbol[~df_symbol.symbol.isin(set(market+sector))]\n",
    "for i, r in df_individual_subset.iterrows():\n",
    "    parent_symbol_id = df_holdings[df_holdings.symbol_id == r.id][\"holding_symbol_id\"].iloc[0]\n",
    "    row = pd.DataFrame({\"symbol_id\": [r.id], \"type\": [\"INDIVIDUAL\"], \"parent_symbol_id\": [parent_symbol_id]})\n",
    "    df_hierarchy = pd.concat([df_hierarchy, row], ignore_index=True)\n",
    "    \n",
    "df_hierarchy"
   ]
  },
  {
   "cell_type": "code",
   "execution_count": 50,
   "id": "5c5e9c17",
   "metadata": {},
   "outputs": [],
   "source": [
    "df_hierarchy.to_csv(\"../../seed/db_hierarchy_seed.csv\", index=False)"
   ]
  },
  {
   "cell_type": "code",
   "execution_count": null,
   "id": "5234f1ce",
   "metadata": {},
   "outputs": [],
   "source": []
  }
 ],
 "metadata": {
  "kernelspec": {
   "display_name": "Python 3 (ipykernel)",
   "language": "python",
   "name": "python3"
  },
  "language_info": {
   "codemirror_mode": {
    "name": "ipython",
    "version": 3
   },
   "file_extension": ".py",
   "mimetype": "text/x-python",
   "name": "python",
   "nbconvert_exporter": "python",
   "pygments_lexer": "ipython3",
   "version": "3.9.19"
  }
 },
 "nbformat": 4,
 "nbformat_minor": 5
}
