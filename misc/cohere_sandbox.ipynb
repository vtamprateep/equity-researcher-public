{
 "cells": [
  {
   "cell_type": "code",
   "execution_count": 4,
   "id": "2ce62a9f",
   "metadata": {},
   "outputs": [],
   "source": [
    "from dotenv import load_dotenv\n",
    "\n",
    "import os\n",
    "import cohere\n",
    "import json\n",
    "import time"
   ]
  },
  {
   "cell_type": "code",
   "execution_count": 2,
   "id": "be2e57d4",
   "metadata": {},
   "outputs": [],
   "source": [
    "load_dotenv(\"../.secrets\")\n",
    "COHERE_API_KEY = os.environ.get(\"COHERE_API_KEY\")"
   ]
  },
  {
   "cell_type": "code",
   "execution_count": 3,
   "id": "2bb8b3a2",
   "metadata": {},
   "outputs": [
    {
     "data": {
      "text/plain": [
       "['SPY',\n",
       " 'XLC',\n",
       " 'XLY',\n",
       " 'XLP',\n",
       " 'XLE',\n",
       " 'XLF',\n",
       " 'XLV',\n",
       " 'XLI',\n",
       " 'XLB',\n",
       " 'XLRE',\n",
       " 'XLK',\n",
       " 'XLU',\n",
       " 'META',\n",
       " 'AMZN',\n",
       " 'PG',\n",
       " 'XOM',\n",
       " 'JPM',\n",
       " 'LLY',\n",
       " 'GE',\n",
       " 'LIN',\n",
       " 'PLD',\n",
       " 'MSFT',\n",
       " 'NEE']"
      ]
     },
     "execution_count": 3,
     "metadata": {},
     "output_type": "execute_result"
    }
   ],
   "source": [
    "co = cohere.Client(COHERE_API_KEY)\n",
    "symbol_list = \"SPY,XLC,XLY,XLP,XLE,XLF,XLV,XLI,XLB,XLRE,XLK,XLU,META,AMZN,PG,XOM,JPM,LLY,GE,LIN,PLD,MSFT,NEE\".split(\",\")\n",
    "symbol_list"
   ]
  },
  {
   "cell_type": "code",
   "execution_count": 6,
   "id": "a00e72bb",
   "metadata": {},
   "outputs": [],
   "source": [
    "response_obj_dict = dict()\n",
    "for symbol in symbol_list:\n",
    "    response = co.chat(\n",
    "        message=f\"Give me a summary of public news / events within the past week relating to the stock symbol {symbol} that would influence a buy / sell decision\",\n",
    "        connectors=[{\"id\": \"web-search\"}],\n",
    "    )\n",
    "    response_obj_dict[symbol] = response\n",
    "    response_json = vars(response)\n",
    "    \n",
    "    # Extract text and citations\n",
    "    new_dict = dict()\n",
    "    new_dict[\"text\"] = response_json[\"text\"]\n",
    "    new_dict[\"documents\"] = response_json[\"documents\"]\n",
    "    \n",
    "    # Save to file\n",
    "    with open(f\"cohere_{symbol}_data.json\", \"w\") as fp:\n",
    "        json.dump(new_dict, fp)\n",
    "        \n",
    "    time.sleep(2)"
   ]
  },
  {
   "cell_type": "code",
   "execution_count": 8,
   "id": "e6180385",
   "metadata": {},
   "outputs": [],
   "source": [
    "# Create new dict with text and documents entries\n",
    "text_doc_dict = dict()\n",
    "for symbol in symbol_list:\n",
    "    new_entry = dict()\n",
    "    new_entry[\"text\"] = response_obj_dict[symbol].text\n",
    "    new_entry[\"documents\"] = response_obj_dict[symbol].documents\n",
    "    text_doc_dict[symbol] = new_entry"
   ]
  },
  {
   "cell_type": "code",
   "execution_count": 10,
   "id": "afa0ee77",
   "metadata": {},
   "outputs": [
    {
     "data": {
      "text/plain": [
       "[{'id': 'web-search_1',\n",
       "  'snippet': \"Entering text into the input field will update the search result below\\n\\nSearch for Symbols, analysts, keywords\\n\\nSPY SPDR® S&P 500 ETF Trust\\n\\nETF Price & OverviewFollow\\n\\n$508.264.77 (+0.95%)4:00 PM 04/26/24\\n\\nNYSEARCA | $USD | Post-Market: $508.26 8:00 PM\\n\\nExpand For Key Data »\\n\\nBarclays sees an uptick in recession fears\\n\\nMegacap tech doing what megacap tech does best - Goldman\\n\\nSA Analyst Roundtable: When will the Fed cut rates?\\n\\nBig Tech earnings power S&P to best week since October 2023; focus turns to Fed meet\\n\\nCatalyst Watch: Apple earnings, Viking IPO, Chinese EV deliveries and Russell indices' Rank Day\\n\\nIBKR sees 'glimmer of hope' in GDP print if softer consumer activity curbs inflation\\n\\nSPY: The 'Value' From Equities Is Historically Low\\n\\nIndependent Advisor's Zaccarelli says Q1 US GDP print 'worst of both worlds'\\n\\nStock investors facing 'meaningful losses' but hope lies in key metric - SentimenTrader\\n\\nBofA watched clients retract $2B last week as the S&P dropped\\n\\nMore News And Analysis »\\n\\nSPY Dividend Growth History\\n\\nMore On Dividend Growth »\\n\\nYou may be interested in:\\n\\nSPDR® S&P 500 ETF Trust (SPY) Frequently Asked Questions\\n\\nTo ensure this doesn’t happen in the future, please enable Javascript and cookies in your browser.\\n\\nIs this happening to you frequently? Please report it on our feedback forum.\\n\\nIf you have an ad-blocker enabled you may be blocked from proceeding. Please disable your ad-blocker and refresh.\",\n",
       "  'timestamp': '2024-04-28T18:17:25',\n",
       "  'title': 'SPDR® S&P 500 ETF Trust (SPY) Stock Price, Quote, News & Analysis',\n",
       "  'url': 'https://seekingalpha.com/symbol/SPY'},\n",
       " {'id': 'web-search_2',\n",
       "  'snippet': 'Skip to Main Content\\n\\nSkip to Related Content\\n\\nSign in to view your mail\\n\\nU.S. markets open in 1 hour 16 minutes\\n\\nRussell 2000 Futures\\n\\nSPDR S&P 500 ETF Trust (SPY)\\n\\nNYSEArca - Nasdaq Real Time Price. Currency in USD\\n\\nVisitors trend2W10W9M\\n\\nAt close: 04:00PM EDT\\n\\n(+0.54%) Pre-Market:\\n\\nTrade prices are not sourced from all markets\\n\\nYTD Daily Total Return\\n\\nEarnings from more banks, Netflix, and retail sales: What to know this week\\n\\nA slew of corporate earnings will face investors this week as markets continue to digest the prospect of higher interest rates throughout 2024.\\n\\nWhich American Cars Cost Less to Insure? (Find out Here)\\n\\nTLT: Why Hold Long Bond ETFs in 2024?\\n\\nLong bond ETFs are down, but there are compelling reasons to hold TLT now.\\n\\nData DisclaimerHelpSuggestions\\n\\nTermsandPrivacy Policy\\n\\nAbout Our AdsSitemap\\n\\n© 2024 Yahoo. All rights reserved.',\n",
       "  'timestamp': '2024-04-22T14:28:10',\n",
       "  'title': 'SPDR S&P 500 ETF Trust (SPY) Stock Price, News, Quote & History - Yahoo Finance',\n",
       "  'url': 'https://finance.yahoo.com/quote/SPY/'},\n",
       " {'id': 'web-search_3',\n",
       "  'snippet': 'The Wall Street Journal\\n\\n日本語 (Japanese)\\n\\nOther Products from WSJ\\n\\nThe Wall Street Journal\\n\\nSPDR S&P 500 ETF Trust SPY (U.S.: NYSE Arca)\\n\\nAT CLOSE 4:00 PM EST 01/12/24\\n\\nPRE MARKET 4:32 AM EST 01/16/24\\n\\n$474.16 -2.52 -0.53%\\n\\nPRE MARKET Vol 14,829\\n\\n65 Day Avg Vol 81,029,927\\n\\n1 Day Range 475.23 - 478.60\\n\\n52 Week Range 380.65 - 478.60 (03/13/23 - 01/12/24)\\n\\nAdvanced Charting Compare\\n\\nCompare to Benchmark:\\n\\nPrior Close 476.68 (01/12/24)\\n\\nInvestment Information SPY\\n\\n* Expense ratio updated annually from fund\\'s year-end report.\\n\\nThe Trust seeks investment results that, before expenses, generally correspond to the price and yield performance of the component common stocks of the S&P 500 Index.\\n\\nYTD 1YR 3YR 5YR 10YR\\n\\n3, 5, and 10 Year Returns are Annualized\\n\\n12/17/2023 - 01/16/2024\\n\\nNews SPDR S&P 500 ETF TrustSPY\\n\\nMarketWatch.com Beware the ‘January defect.’ Stocks are now in a bearish stretch.\\n\\nMarketWatch.com Why Microsoft’s stock is a better investment than Apple’s\\n\\nMarketWatch.com What history says about first-of-a-kind ETFs as bitcoin products debut\\n\\nMarketWatch.com Bitcoin in spotlight as SEC approves new ETFs, ether rallies. Here’s why.\\n\\nMarketWatch.com 3M’s CEO is in line for a $26 million pension — as company freezes the plan for employees\\n\\nMarketWatch.com Airline stocks have had a great run. Here’s what analysts expect from here.\\n\\nMarketWatch.com These two bank stocks shine as the industry gets closer to turning a corner\\n\\nMarketWatch.com This ETF’s strategy has been working, and the numbers point to continued success\\n\\nMarketWatch.com The Russell 2000 Index has soared, but you might be better off looking elsewhere for quality small-cap stocks\\n\\nMarketWatch.com This is why the S&P 500 can be expected to continue to outperform small-cap stocks\\n\\nBarrons Online S&P 500\\'s Weekly Winning Streak in Jeopardy\\n\\nBarrons Online Stock Market News: S&P 500 and Nasdaq Composite Snap Losing Streaks\\n\\nBarron\\'s Bond Yields Are Rallying Again. This Year Could Be a Bumpy Ride.\\n\\nBarron\\'s The Market May Be Too Optimistic. This Trade Can Help You.\\n\\nMarketWatch.com What should you expect for the stock market in 2024?\\n\\nMarketWatch.com These ETF strategies won big in 2023. How one analyst sees them doing next year.\\n\\nMarketWatch.com 20 favorite small-cap stocks for 2024 among Wall Street analysts\\n\\nMarketWatch.com Here\\'s how 10 of Wall Street\\'s predictions for 2023 panned out\\n\\nMarketWatch.com Seven tech stocks that can broaden your exposure beyond the ‘Magnificent Seven’ in 2024\\n\\nMarketWatch.com These are the dividend stocks that will hold up in a weakening economy in 2024, says this highly rated money manager\\n\\nNAV $476.75 (01/12/24)\\n\\nShares Outstanding 1.01 B\\n\\nLatest Dividend $1.90607297 (01/31/24)\\n\\nAvg Price/Book Ratio 10.04\\n\\nThe total number of shares of a security that have been sold short and not yet repurchased.\\n\\nPercentage change in short interest from the previous report to the most recent report. Exchanges report short interest twice a month.\\n\\nTotal short positions relative to the number of shares available to trade.\\n\\nShort Interest (12/29/23)\\n\\nShares Sold Short 108.29 M\\n\\nChange from Last -12.81%\\n\\nMoney Flow Uptick/Downtick Ratio\\n\\nMoney flow measures the relative buying and selling pressure on a stock, based on the value of trades made on an \"uptick\" in price and the value of trades made on a \"downtick\" in price. The up/down ratio is calculated by dividing the value of uptick trades by the value of downtick trades. Net money flow is the value of uptick trades minus the value of downtick trades. Our calculations are based on comprehensive, delayed quotes.\\n\\nManagement Company State Street Global Advisors\\n\\nManager Name/Start Year Team Managed (N/A)\\n\\nInception Date 01/22/93\\n\\nPhone Number 866-732-8673\\n\\n% of Total Portfolio\\n\\nBerkshire Hathaway Inc. Cl B\\n\\nJPMorgan Chase & Co.\\n\\nSector Allocations SPY\\n\\nDistribution History SPY\\n\\nNotes & Data Providers\\n\\nStocks: Real-time U.S. stock quotes reflect trades reported through Nasdaq only; comprehensive quotes and volume reflect trading in all markets and are delayed at least 15 minutes. International stock quotes are delayed as per exchange requirements. Fundamental company data and analyst estimates provided by FactSet. Copyright © FactSet Research Systems Inc. All rights reserved. Source: FactSet\\n\\nIndexes: Index quotes may be real-time or delayed as per exchange requirements; refer to time stamps for information on any delays. Source: FactSet\\n\\nMarkets Diary: Data on U.S. Overview page represent trading in all U.S. markets and updates until 8 p.m. See Closing Diaries table for 4 p.m. closing data. Sources: FactSet, Dow Jones\\n\\nStock Movers: Gainers, decliners and most actives market activity tables are a combination of NYSE, Nasdaq, NYSE American and NYSE Arca listings. Sources: FactSet, Dow Jones\\n\\nETF Movers: Includes ETFs & ETNs with volume of at least 50,000. Sources: FactSet, Dow Jones\\n\\nBonds: Bond quotes are updated in real-time. Sources: FactSet, Tullett Prebon\\n\\nCurrencies: Currency quotes are updated in real-time. Sources: FactSet, Tullett Prebon\\n\\nCommodities & Futures: Futures prices are delayed at least 10 minutes as per exchange requirements. Change value during the period between open outcry settle and the commencement of the next day\\'s trading is calculated as the difference between the last trade and the prior day\\'s settle. Change value during other periods is calculated as the difference between the last trade and the most recent settle. Source: FactSet\\n\\nData are provided \\'as is\\' for informational purposes only and are not intended for trading purposes. FactSet (a) does not make any express or implied warranties of any kind regarding the data, including, without limitation, any warranty of merchantability or fitness for a particular purpose or use; and (b) shall not be liable for any errors, incompleteness, interruption or delay, action taken in reliance on any data, or for any damages resulting therefrom. Data may be intentionally delayed pursuant to supplier requirements.\\n\\nMutual Funds & ETFs: All of the mutual fund and ETF information contained in this display, with the exception of the current price and price history, was supplied by Lipper, A Refinitiv Company, subject to the following: Copyright © Refinitiv. All rights reserved. Any copying, republication or redistribution of Lipper content, including by caching, framing or similar means, is expressly prohibited without the prior written consent of Lipper. Lipper shall not be liable for any errors or delays in the content, or for any actions taken in reliance thereon.\\n\\nCryptocurrencies: Cryptocurrency quotes are updated in real-time. Sources: CoinDesk (Bitcoin), Kraken (all other cryptocurrencies)\\n\\nCalendars and Economy: \\'Actual\\' numbers are added to the table after economic reports are released. Source: Kantar Media',\n",
       "  'timestamp': '2024-04-12T18:58:50',\n",
       "  'title': 'SPY | SPDR S&P 500 ETF Trust Stock Price, Quotes and News - WSJ',\n",
       "  'url': 'https://www.wsj.com/market-data/quotes/etf/SPY'},\n",
       " {'id': 'web-search_5',\n",
       "  'snippet': \"Accessibility Log In Help Join The Motley Fool\\n\\nSPDR S&P 500 ETF Trust (NYSEMKT: SPY)\\n\\nPrice as of April 29, 2024, 10:44 a.m. ET\\n\\nSPDR S&P 500 ETF Trust Return vs. S&P\\n\\nSPDR S&P 500 ETF Trust Company Info\\n\\nThe SPDR S&P 500 is an exchange-traded fund that holds all companies that make up the S&P 500.\\n\\nThe Fool has written over 400 articles on SPDR S&P 500 ETF Trust.\\n\\nHow Should a Beginner Invest in Stocks? Try This Index Fund.\\n\\nIf you're looking to get started as an investor, give yourself a solid foundation with this iconic ETF.\\n\\nReuben Gregg Brewer | Apr 28, 2024\\n\\nThis Type of ETF Endorsed by Warren Buffett Is as Close to a Sure Thing as You Can Get\\n\\nBuffett believes the best investment for most people is an S&P 500 index fund, and to prove it, his Berkshire Hathaway owns such funds itself.\\n\\nChristy Bieber | Apr 27, 2024\\n\\nThese 3 Index ETFs Are a Retiree's Best Friend\\n\\nJames Brumley | Apr 25, 2024\\n\\nYour investing strategies must evolve when the work-based income stops and you're living on your savings.\\n\\nWhat's Billionaire Ken Griffin's Biggest Holding? You Might Be Surprised.\\n\\nKeith Speights | Apr 15, 2024\\n\\nHint: It's not Nvidia, Microsoft, or Amazon.\\n\\n3 SPDR ETFs That Could Help You Retire a Millionaire\\n\\nJames Brumley | Apr 14, 2024\\n\\nInvestors looking for real growth don't have to make it complicated. In fact, they should make a point of keeping it simple.\\n\\nHow to Invest in Facebook Stock (META)\\n\\nMatt DiLallo | Apr 8, 2024\\n\\nGet step-by-step guidance on investing in Facebook and learn the ins and outs of this branch of a massive media company.\\n\\nHow to Invest in Tesla Stock in 2024\\n\\nMatt DiLallo | Apr 8, 2024\\n\\nGet step-by-step guidance on how to invest in Tesla stock and learn the ins and outs of this company.\\n\\nIndex Funds Have Changed. Do You Need to Adjust Your Retirement Portfolio in Response?\\n\\nRyan Downie | Apr 6, 2024\\n\\nMany popular index funds aren't behaving the same way they did five years ago. View More SPY Articles\\n\\nJefferies Financial Group\\n\\nBrookfield Corporation\\n\\nInteractive Brokers Group\\n\\nPremium Investing Services\\n\\nInvest better with The Motley Fool. Get stock recommendations, portfolio guidance, and more from The Motley Fool's premium services.\\n\\nView Premium Services\",\n",
       "  'timestamp': '2024-04-29T14:59:26',\n",
       "  'title': 'SPDR S&P 500 ETF Trust (SPY) Stock Price, News & Info | The Motley Fool',\n",
       "  'url': 'https://www.fool.com/quote/nysemkt/spy/'},\n",
       " {'id': 'web-search_0',\n",
       "  'snippet': \"Futures & Commodities\\n\\nEquity and Opportunity\\n\\nHelp for Low Credit Scores\\n\\nFind the Credit Card for You\\n\\nBest Rewards Credit Cards\\n\\nBest Travel Credit Cards\\n\\nBest 0% APR Credit Cards\\n\\nBest Balance Transfer Credit Cards\\n\\nBest Cash Back Credit Cards\\n\\nBest Credit Card Welcome Bonuses\\n\\nBest Credit Cards to Build Credit\\n\\nFind the Best Personal Loan for You\\n\\nBest Debt Consolidation Loans\\n\\nBest Loans to Refinance Credit Card Debt\\n\\nBest Loans with Fast Funding\\n\\nBest Small Personal Loans\\n\\nBest Large Personal Loans\\n\\nBest Personal Loans to Apply Online\\n\\nBest Student Loan Refinance\\n\\nFind the Savings Account for You\\n\\nBest High Yield Savings Accounts\\n\\nBest Big Bank Savings Accounts\\n\\nBest Big Bank Checking Accounts\\n\\nBest No Fee Checking Accounts\\n\\nNo Overdraft Fee Checking Accounts\\n\\nBest Checking Account Bonuses\\n\\nBest Money Market Accounts\\n\\nBest Mortgages for Small Down Payment\\n\\nBest Mortgages for No Down Payment\\n\\nBest Mortgages with No Origination Fee\\n\\nBest Mortgages for Average Credit Score\\n\\nAdjustable Rate Mortgages\\n\\nAffording a Mortgage\\n\\nBest Homeowners Insurance\\n\\nBest Renters Insurance\\n\\nAll Credit Monitoring\\n\\nBest Credit Monitoring Services\\n\\nBest Identity Theft Protection\\n\\nHow to Boost Your Credit Score\\n\\nCredit Repair Services\\n\\nAll Personal Finance\\n\\nBest Expense Tracker Apps\\n\\nBest Money Transfer Apps\\n\\nBest Resale Apps and Sites\\n\\nBuy Now Pay Later (BNPL) Apps\\n\\nBest Small Business Savings Accounts\\n\\nBest Small Business Checking Accounts\\n\\nBest Credit Cards for Small Business\\n\\nBest Small Business Loans\\n\\nBest Tax Software for Small Business\\n\\nBest Tax Software for Small Businesses\\n\\nAll Help for Low Credit Scores\\n\\nBest Credit Cards for Bad Credit\\n\\nBest Personal Loans for Bad Credit\\n\\nBest Debt Consolidation Loans for Bad Credit\\n\\nPersonal Loans if You Don't Have Credit\\n\\nBest Credit Cards for Building Credit\\n\\nPersonal Loans for 580 Credit Score or Lower\\n\\nPersonal Loans for 670 Credit Score or Lower\\n\\nBest Mortgages for Bad Credit\\n\\nHow to Boost Your Credit Score\\n\\nBest Roth IRA Accounts\\n\\nBest Free Stock Trading Platforms\\n\\nSearch quotes, news & videos\\n\\nSPDR S&P 500 ETF Trust SPY:NYSE Arca\\n\\nRT Quote | Last NYSE, VOL From CTA | USD\\n\\n508.40+4.91 (+0.98%)\\n\\n52 Week High Date03/28/24\\n\\n52 Week Low Date05/04/23\\n\\n10 Day Average Volume76.85M\\n\\n1 Year % Change25.74Show Events\\n\\n52 Week High Date03/28/24\\n\\n52 Week Low Date05/04/23\\n\\n10 Day Average Volume76.85M\\n\\n1 Year % Change25.74\\n\\nEx Div Date03/15/2024\\n\\nLatest On SPDR S&P 500 ETF Trust\\n\\nALL CNBCINVESTING CLUBPRO\\n\\nWhen Tesla shares rise — these 7 stocks have tended to rise too recentlyApril 24, 2024CNBC.com\\n\\nThis fund that lets retail traders invest in SpaceX and OpenAI has a massive premiumApril 23, 2024CNBC.com\\n\\nWhen Tesla shares fall — these 6 stocks tend to rise, according to recent historyApril 22, 2024CNBC.com\\n\\nDow closes more than 200 points higher, S&P 500 snaps 6-day losing run as tech resurgesApril 21, 2024CNBC.com\\n\\nA low cost way to protect against further market declinesApril 19, 2024CNBC.com\\n\\nContent From Our Affiliates\\n\\nSPDR S&P 500 ETF Trust: Pivot pointsApril 25, 2024TipRanks\\n\\nSPY ETF Update, 4/25/2024 April 25, 2024TipRanks\\n\\nAll-Day Trading? New York Stock Exchange (NYSE:ICE) Testing the WatersApril 22, 2024TipRanks\\n\\nSPY ETF Update, 4/22/2024 April 22, 2024TipRanks\\n\\nSPY ETF Update, 4/18/2024 April 18, 2024TipRanks\",\n",
       "  'timestamp': '2024-04-26T14:47:59',\n",
       "  'title': \"Check out SPDR S&P 500 ETF Trust's stock price (SPY) in real time\",\n",
       "  'url': 'https://www.cnbc.com/quotes/SPY'}]"
      ]
     },
     "execution_count": 10,
     "metadata": {},
     "output_type": "execute_result"
    }
   ],
   "source": [
    "text_doc_dict[\"SPY\"][\"documents\"]"
   ]
  },
  {
   "cell_type": "code",
   "execution_count": null,
   "id": "907a070b",
   "metadata": {},
   "outputs": [],
   "source": []
  }
 ],
 "metadata": {
  "kernelspec": {
   "display_name": "Python 3 (ipykernel)",
   "language": "python",
   "name": "python3"
  },
  "language_info": {
   "codemirror_mode": {
    "name": "ipython",
    "version": 3
   },
   "file_extension": ".py",
   "mimetype": "text/x-python",
   "name": "python",
   "nbconvert_exporter": "python",
   "pygments_lexer": "ipython3",
   "version": "3.9.19"
  }
 },
 "nbformat": 4,
 "nbformat_minor": 5
}
